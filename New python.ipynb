{
 "cells": [
  {
   "cell_type": "code",
   "execution_count": 8,
   "metadata": {},
   "outputs": [
    {
     "name": "stdout",
     "output_type": "stream",
     "text": [
      "<built-in function id>\n",
      "rakesh\n",
      "7363\n"
     ]
    }
   ],
   "source": [
    "class patient:\n",
    "    def setId(self,Id):\n",
    "        self.id=id\n",
    "    def getId(self):\n",
    "        return self.id\n",
    "    def setName(self,name):\n",
    "        self.name=name\n",
    "    def getName(self):\n",
    "        return self.name\n",
    "    def setssn(self,ssn):\n",
    "        self.ssn=ssn\n",
    "    def getssn(self):\n",
    "        return self.ssn\n",
    "s=patient()\n",
    "s.setId(123)\n",
    "s.setName('rakesh')\n",
    "s.setssn(7363)\n",
    "print(s.getId())\n",
    "print(s.getName())\n",
    "print(s.getssn())"
   ]
  },
  {
   "cell_type": "code",
   "execution_count": 56,
   "metadata": {},
   "outputs": [
    {
     "name": "stdout",
     "output_type": "stream",
     "text": [
      "True\n",
      "BMW\n",
      "328i\n",
      "2018\n",
      "Starting the car\n",
      "Button Start\n",
      "Signature\n",
      "True\n"
     ]
    }
   ],
   "source": [
    "#inheritence\n",
    "#bmw\n",
    "class BMW:\n",
    "    def __init__(self,make,model,year):\n",
    "        self.make=make\n",
    "        self.model=model\n",
    "        self.year=year\n",
    "    def Start(self):\n",
    "        print(\"Starting the car\")\n",
    "    def Stop(self):\n",
    "        print(\"stopping the car\")\n",
    "        \n",
    "        \n",
    "class ThreeSeries(BMW):\n",
    "    \n",
    "    def __init__(self,cruiseControlEnabled,make,model,year):\n",
    "        super().__init__(make,model,year)\n",
    "        self.cruiseControlEnabled=cruiseControlEnabled\n",
    "    \n",
    "        \n",
    "        \n",
    "class FiveSeries(BMW):\n",
    "    \n",
    "    \n",
    "    def __init__(self,parkingAssistEnabled,make,model,year):\n",
    "        super().__init__(make,model,year)\n",
    "        self.parkingAssistEnabled=parkingAssistEnabled\n",
    "    \n",
    "    def display(self):\n",
    "        print(self.parkingAssistEnabled)\n",
    "    def Start(self):\n",
    "        super().Start()\n",
    "        print(\"Button Start\")\n",
    "    def Stop(self):\n",
    "        print(\"Signature\")\n",
    "        \n",
    "        \n",
    "        \n",
    "FiveSeries= FiveSeries(True,\"BMW\",\"328i\",\"2018\")\n",
    "print( FiveSeries.parkingAssistEnabled)\n",
    "print( FiveSeries.make)\n",
    "print( FiveSeries.model)\n",
    "print( FiveSeries.year)\n",
    "FiveSeries.Start()\n",
    "FiveSeries.Stop()\n",
    "FiveSeries.display()\n",
    "\n",
    "\n",
    "        \n",
    "        "
   ]
  },
  {
   "cell_type": "code",
   "execution_count": 68,
   "metadata": {},
   "outputs": [
    {
     "name": "stdout",
     "output_type": "stream",
     "text": [
      "quack quack\n",
      "hello\n",
      "move move\n"
     ]
    }
   ],
   "source": [
    "#polymorphism\n",
    "#ducktyping\n",
    "class Duck:\n",
    "    def talk(self):\n",
    "        print(\"quack quack\")\n",
    "class Human:\n",
    "    def talk(self):\n",
    "        print(\"hello\")\n",
    "class toy:\n",
    "    def talk(self):\n",
    "        print(\"move move\")\n",
    "def callTalk(obj):\n",
    "        obj.talk();\n",
    "d=Duck()\n",
    "callTalk(d)\n",
    "h=human()\n",
    "callTalk(h)\n",
    "t=toy()\n",
    "callTalk(t)\n",
    "    \n",
    "    "
   ]
  },
  {
   "cell_type": "code",
   "execution_count": 82,
   "metadata": {},
   "outputs": [
    {
     "name": "stdout",
     "output_type": "stream",
     "text": [
      "starting Airbus engine\n",
      "starting boing engine\n"
     ]
    }
   ],
   "source": [
    "#flight engine\n",
    "class flight:\n",
    "    def __init__(self,engine):\n",
    "        self.engine=engine\n",
    "    def startEngine(self):\n",
    "        self.engine.start();\n",
    "class AirbusEngine:\n",
    "    def start(self):\n",
    "        print(\"starting Airbus engine\")\n",
    "class BoingEngine:\n",
    "    def start(self):\n",
    "        print(\"starting boing engine\")\n",
    "ae=AirbusEngine()\n",
    "f=flight(ae)\n",
    "f.startEngine()\n",
    "\n",
    "be=BoingEngine()\n",
    "f=flight(be)\n",
    "f.startEngine()\n",
    "\n",
    "    \n",
    "\n"
   ]
  },
  {
   "cell_type": "code",
   "execution_count": 84,
   "metadata": {},
   "outputs": [
    {
     "name": "stdout",
     "output_type": "stream",
     "text": [
      "50\n",
      "hello i am rakesh\n",
      "[1, 2, 3, 4, 5, 6]\n"
     ]
    }
   ],
   "source": [
    "#+operator\n",
    "x=10\n",
    "y=40\n",
    "print(x+y)\n",
    "s1=\"hello\"\n",
    "s2=\" i am rakesh\"\n",
    "print(s1+s2)\n",
    "l1=[1,2,3]\n",
    "l2=[4,5,6]\n",
    "print(l1+l2)"
   ]
  },
  {
   "cell_type": "code",
   "execution_count": 96,
   "metadata": {},
   "outputs": [
    {
     "name": "stdout",
     "output_type": "stream",
     "text": [
      "True\n",
      "BMW\n",
      "328i\n",
      "2018\n",
      "Starting the car\n",
      "Button Start\n",
      "Signature\n",
      "True\n"
     ]
    }
   ],
   "source": [
    "#classes and interface\n",
    "from abc import abstractmethod,ABC\n",
    "class BMW(ABC):\n",
    "    def __init__(self,make,model,year):\n",
    "        self.make=make\n",
    "        self.model=model\n",
    "        self.year=year\n",
    "    def Start(self):\n",
    "        print(\"Starting the car\")\n",
    "    def Stop(self):\n",
    "        print(\"stopping the car\")\n",
    "    def drive(self):\n",
    "        pass\n",
    "        \n",
    "class ThreeSeries(BMW):\n",
    "    \n",
    "    def __init__(self,cruiseControlEnabled,make,model,year):\n",
    "        super().__init__(make,model,year)\n",
    "        self.cruiseControlEnabled=cruiseControlEnabled\n",
    "    def Start(self):\n",
    "        super().Start()\n",
    "        print(\"Button Start\")\n",
    "    def Stop(self):\n",
    "        print(\"stop Button\")\n",
    "    def drive(self):\n",
    "        print(\"Three seies is being driven\")\n",
    "        \n",
    "    \n",
    "        \n",
    "        \n",
    "class FiveSeries(BMW):\n",
    "    \n",
    "    \n",
    "    def __init__(self,parkingAssistEnabled,make,model,year):\n",
    "        super().__init__(make,model,year)\n",
    "        self.parkingAssistEnabled=parkingAssistEnabled\n",
    "    \n",
    "    def display(self):\n",
    "        print(self.parkingAssistEnabled)\n",
    "    def Start(self):\n",
    "        super().Start()\n",
    "        print(\"Button Start\")\n",
    "    def Stop(self):\n",
    "        print(\"Signature\")\n",
    "    def drive(self):\n",
    "        print(\"Five Series is being driven\")\n",
    "        \n",
    "        \n",
    "        \n",
    "        \n",
    "FiveSeries= FiveSeries(True,\"BMW\",\"328i\",\"2018\")\n",
    "print( FiveSeries.parkingAssistEnabled)\n",
    "print( FiveSeries.make)\n",
    "print( FiveSeries.model)\n",
    "print( FiveSeries.year)\n",
    "FiveSeries.Start()\n",
    "FiveSeries.Stop()\n",
    "FiveSeries.display()\n"
   ]
  },
  {
   "cell_type": "code",
   "execution_count": 99,
   "metadata": {},
   "outputs": [
    {
     "name": "stdout",
     "output_type": "stream",
     "text": [
      "i'm in the car\n",
      "driving\n"
     ]
    }
   ],
   "source": [
    "class car:\n",
    "    def __init__(self):\n",
    "        self.__updatesoftware()\n",
    "    def drive(self):\n",
    "        print(\"driving\")\n",
    "    def __updatesoftware(self):\n",
    "        print(\"i'm in the car\")\n",
    "c=car()\n",
    "c.drive()"
   ]
  },
  {
   "cell_type": "code",
   "execution_count": 106,
   "metadata": {},
   "outputs": [
    {
     "name": "stdout",
     "output_type": "stream",
     "text": [
      "driving\n",
      "200\n",
      "100\n"
     ]
    }
   ],
   "source": [
    "class car:\n",
    "    __maxspeed=0\n",
    "    __name=\"\"\n",
    "    def __init__(self):\n",
    "        self.__maxspeed=200\n",
    "        self.__name=\"supercar\"\n",
    "    def drive(self):\n",
    "        print(\"driving\")\n",
    "        print(self.__maxspeed)\n",
    "    def setspeed(self,speed):\n",
    "        self.__maxspeed=speed\n",
    "        print(self.__maxspeed)\n",
    "redcar=car()\n",
    "redcar.drive()\n",
    "redcar.setspeed(100)\n"
   ]
  },
  {
   "cell_type": "code",
   "execution_count": 6,
   "metadata": {},
   "outputs": [
    {
     "name": "stdout",
     "output_type": "stream",
     "text": [
      "Scroll Dell\n",
      "Click Click Dell\n",
      "Scroll HP\n",
      "CLick Click HP\n"
     ]
    }
   ],
   "source": [
    "from abc import abstractmethod, ABC\n",
    "\n",
    "\n",
    "class TouchScreenLaptop(ABC):\n",
    "\n",
    "    @abstractmethod\n",
    "    def scroll(self):\n",
    "        pass\n",
    "\n",
    "    @abstractmethod\n",
    "    def click(self):\n",
    "        pass\n",
    "\n",
    "\n",
    "class Hp(TouchScreenLaptop):\n",
    "\n",
    "    def scroll(self):\n",
    "        print(\"Scroll HP\")\n",
    "\n",
    "    def click(self):\n",
    "        super().click()\n",
    "\n",
    "\n",
    "class Dell(TouchScreenLaptop):\n",
    "\n",
    "    def scroll(self):\n",
    "        print(\"Scroll Dell\")\n",
    "\n",
    "    def click(self):\n",
    "        super().click()\n",
    "\n",
    "\n",
    "class HpNotebook(Hp):\n",
    "    def scroll(self):\n",
    "        super().scroll()\n",
    "\n",
    "    def click(self):\n",
    "        print(\"CLick Click HP\")\n",
    "\n",
    "\n",
    "class DellNotebook(Dell):\n",
    "\n",
    "    def scroll(self):\n",
    "        super().scroll()\n",
    "\n",
    "    def click(self):\n",
    "        print(\"Click Click Dell\")\n",
    "\n",
    "\n",
    "dell = DellNotebook()\n",
    "dell.scroll()\n",
    "dell.click()\n",
    "\n",
    "hp = HpNotebook()\n",
    "hp.scroll()\n",
    "hp.click()\n",
    "\n",
    "    "
   ]
  },
  {
   "cell_type": "code",
   "execution_count": 15,
   "metadata": {},
   "outputs": [
    {
     "name": "stdout",
     "output_type": "stream",
     "text": [
      "Scroll Dell\n",
      "Click Click Dell\n",
      "Scroll HP\n",
      "CLick Click HP\n"
     ]
    }
   ],
   "source": [
    "from abc import abstractmethod, ABC\n",
    "\n",
    "class Touchscreenlaptop(ABC):\n",
    "    @abstractmethod\n",
    "    def scroll(self):\n",
    "        pass\n",
    "    @abstractmethod\n",
    "    def click(self):\n",
    "        pass\n",
    "    \n",
    "class hp(Touchscreenlaptop):\n",
    "    def scroll(self):\n",
    "        super().scroll\n",
    "    def click(self):\n",
    "        print(\"click up\")\n",
    "        \n",
    "class dell(Touchscreenlaptop):\n",
    "    def scroll(self):\n",
    "        super().scroll\n",
    "    def click(self):\n",
    "        print(\"click up\")\n",
    "   \n",
    "        \n",
    "class hpnotebook(hp):\n",
    "    def scroll(self):\n",
    "        super().scroll()\n",
    "    def click(self):\n",
    "        print(\"click up\")\n",
    "        \n",
    "class dellnotebook(dell):\n",
    "    def scroll(self):\n",
    "        super().scroll()\n",
    "    def click(self):\n",
    "        print(\"click up\")\n",
    "        \n",
    "dell = DellNotebook()\n",
    "dell.scroll()\n",
    "dell.click()\n",
    "\n",
    "hp = HpNotebook()\n",
    "hp.scroll()\n",
    "hp.click()\n"
   ]
  },
  {
   "cell_type": "code",
   "execution_count": 22,
   "metadata": {},
   "outputs": [
    {
     "name": "stdout",
     "output_type": "stream",
     "text": [
      "enter the two numbers4 0\n",
      "my name is rakesh\n"
     ]
    }
   ],
   "source": [
    "#exception\n",
    "try:\n",
    "    a,b=[int(x) for x in input(\"enter the two numbers\").split()]\n",
    "    c=a/b\n",
    "    print(c)\n",
    "except ZeroDivisionError  :\n",
    "    print(\"my name is rakesh\")"
   ]
  },
  {
   "cell_type": "code",
   "execution_count": 28,
   "metadata": {},
   "outputs": [
    {
     "name": "stdout",
     "output_type": "stream",
     "text": [
      "enter the two numbers4 0\n",
      "my name is rakesh\n",
      "file close\n"
     ]
    }
   ],
   "source": [
    "try:\n",
    "    f=open(\"myfile\",\"w\")\n",
    "    a,b=[int(x) for x in input(\"enter the two numbers\").split()]\n",
    "    c=a/b\n",
    "    f.write(\"writing%d into file\"%c)\n",
    "except ZeroDivisionError  :\n",
    "    print(\"my name is rakesh\")\n",
    "else:\n",
    "    print(\"you have entered non zero number\")\n",
    "finally:\n",
    "    f.close()\n",
    "    print(\"file close\")"
   ]
  },
  {
   "cell_type": "code",
   "execution_count": 37,
   "metadata": {},
   "outputs": [
    {
     "name": "stderr",
     "output_type": "stream",
     "text": [
      "ERROR:root:error\n",
      "CRITICAL:root:error\n",
      "WARNING:root:warning\n"
     ]
    }
   ],
   "source": [
    "#loggingdemo\n",
    "import logging\n",
    "logging.error(\"error\")\n",
    "logging.critical(\"error\")\n",
    "logging.warning(\"warning\")\n",
    "logging.debug(\"debug\")\n",
    "logging.info(\"info\")\n"
   ]
  },
  {
   "cell_type": "code",
   "execution_count": 42,
   "metadata": {},
   "outputs": [
    {
     "name": "stderr",
     "output_type": "stream",
     "text": [
      "CRITICAL:root:critical\n",
      "ERROR:root:error\n",
      "WARNING:root:warning\n"
     ]
    }
   ],
   "source": [
    "import logging\n",
    "logging.basicConfig(filename=\"ralesh.log\",level=logging.debug)\n",
    "logging.critical(\"critical\")\n",
    "logging.error(\"error\")\n",
    "logging.warning(\"warning\")\n",
    "logging.info(\"info\")\n",
    "logging.debug(\"debug\")\n"
   ]
  },
  {
   "cell_type": "code",
   "execution_count": 54,
   "metadata": {},
   "outputs": [
    {
     "name": "stdout",
     "output_type": "stream",
     "text": [
      "enter the two numbers4 0\n"
     ]
    },
    {
     "name": "stderr",
     "output_type": "stream",
     "text": [
      "ERROR:root:division by zero\n"
     ]
    },
    {
     "name": "stdout",
     "output_type": "stream",
     "text": [
      "we are from loyola\n",
      "file close\n"
     ]
    }
   ],
   "source": [
    "import logging\n",
    "logging.basicConfig(filename=\"rakesh.log\",level=logging.debug)\n",
    "\n",
    "try:\n",
    "    f=open(\"myfile\",\"w\")\n",
    "    a,b=[int(x) for x in input(\"enter the two numbers\").split()]\n",
    "    logging.info(\"division in progress\")\n",
    "    c=a/b\n",
    "    print(c)\n",
    "    f.write(\"writing %d into file\"%c)\n",
    "except ZeroDivisionError  :\n",
    "    print(\"we are from loyola\")\n",
    "    logging.error(\"division by zero\")\n",
    "else:\n",
    "    print(\"you have entered non zero number\")\n",
    "finally:\n",
    "    f.close()\n",
    "    print(\"file close\")"
   ]
  },
  {
   "cell_type": "code",
   "execution_count": 61,
   "metadata": {},
   "outputs": [
    {
     "name": "stdout",
     "output_type": "stream",
     "text": [
      "enter the number1\n",
      "it is invalid number\n"
     ]
    }
   ],
   "source": [
    "#assert\n",
    "try:\n",
    "    z=int(input(\"enter the number\"))\n",
    "    assert z%2==0,\"it is invalid number\"\n",
    "except AssertionError as obj:\n",
    "    print(obj)"
   ]
  },
  {
   "cell_type": "code",
   "execution_count": 76,
   "metadata": {},
   "outputs": [
    {
     "name": "stdout",
     "output_type": "stream",
     "text": [
      "enter the password and should be greater than 7 charactersfugjjf\n",
      "Please check the length of the password\n",
      "enter the password and should be greater than 7 charactersygfjyjyjukgu\n",
      "password saved successfully\n"
     ]
    }
   ],
   "source": [
    "password='0'\n",
    "\n",
    "while len(password)<8:\n",
    "\n",
    "    try:\n",
    "\n",
    "        password=input(\"enter the password and should be greater than 7 characters\")\n",
    "\n",
    "        assert len(password)>=8,\"the length is less than 8 characters\"\n",
    "\n",
    "    except AssertionError as InvalidPasswordException:\n",
    "\n",
    "        print(\"Please check the length of the password\")\n",
    "\n",
    "    finally:\n",
    "\n",
    "        if len(password)>=8:\n",
    "\n",
    "            print(\"password saved successfully\")\n",
    "\n",
    "            break"
   ]
  },
  {
   "cell_type": "code",
   "execution_count": null,
   "metadata": {},
   "outputs": [],
   "source": [
    "password='0'\n",
    "while len(password)<10:\n",
    "    try:\n",
    "        password=input(\"enter the password and should be greater than 10 characters\")\n",
    "        assert len(password)>=10,\"the length is less than 10 characters\"\n",
    "    except AssertionError as InvalidPasswordException:\n",
    "        print(\"please check the password\")\n",
    "    finally:\n",
    "        if len(password)>=10:\n",
    "            print(\"password saved sucessfully\")\n",
    "            break"
   ]
  },
  {
   "cell_type": "code",
   "execution_count": 2,
   "metadata": {
    "scrolled": true
   },
   "outputs": [
    {
     "name": "stdout",
     "output_type": "stream",
     "text": [
      "enter the txtrakesh is good boy\n"
     ]
    }
   ],
   "source": [
    "#files\n",
    "d=open(\"myfile\",\"w\")\n",
    "s=input(\"enter the txt\")\n",
    "d.write(s)\n",
    "d.close()\n"
   ]
  },
  {
   "cell_type": "code",
   "execution_count": 3,
   "metadata": {},
   "outputs": [
    {
     "name": "stdout",
     "output_type": "stream",
     "text": [
      "enter the txtrakesh has good character\n"
     ]
    }
   ],
   "source": [
    "x=open(\"myfile\",\"w\")\n",
    "l=input(\"enter the txt\")\n",
    "x.write(l)\n",
    "x.close()"
   ]
  },
  {
   "cell_type": "code",
   "execution_count": 6,
   "metadata": {},
   "outputs": [
    {
     "name": "stdout",
     "output_type": "stream",
     "text": [
      "rakesh has good character\n"
     ]
    }
   ],
   "source": [
    "x=open(\"myfile\",\"r\")\n",
    "s=x.read()\n",
    "print(s)\n",
    "x.close()"
   ]
  },
  {
   "cell_type": "code",
   "execution_count": 7,
   "metadata": {},
   "outputs": [
    {
     "name": "stdout",
     "output_type": "stream",
     "text": [
      "enter txt (type #when you ae done)\n",
      "enter the txtrajesg is good boy\n",
      "enter the txthe will give chocolates\n",
      "enter the txt#\n"
     ]
    }
   ],
   "source": [
    "d=open(\"myfile\",\"w\")\n",
    "print(\"enter txt (type #when you ae done)\")\n",
    "s=''\n",
    "while s!='#':\n",
    "    s=input(\"enter the txt\")\n",
    "    d.write(s)\n",
    "d.close()\n"
   ]
  },
  {
   "cell_type": "code",
   "execution_count": 1,
   "metadata": {},
   "outputs": [
    {
     "name": "stdout",
     "output_type": "stream",
     "text": [
      "enter txt(Type $ when you are done)\n",
      "enter the txtrakesh is good boy\n",
      "enter the txthe has good character\n",
      "enter the txthe is good in studies\n",
      "enter the txt$\n"
     ]
    }
   ],
   "source": [
    "d=open(\"myfile\",\"w\")\n",
    "print(\"enter txt(Type $ when you are done)\")\n",
    "s=''\n",
    "while s!='$':\n",
    "    s=input(\"enter the txt\")\n",
    "    d.write(s)\n",
    "d.close()\n"
   ]
  },
  {
   "cell_type": "code",
   "execution_count": 3,
   "metadata": {},
   "outputs": [
    {
     "name": "stdout",
     "output_type": "stream",
     "text": [
      "rakesh is good boyhe has good characterhe is good in studies$\n"
     ]
    }
   ],
   "source": [
    "d=open(\"myfile\",\"r\")\n",
    "s=d.read()\n",
    "print(s)\n",
    "d.close()"
   ]
  },
  {
   "cell_type": "code",
   "execution_count": 11,
   "metadata": {},
   "outputs": [
    {
     "name": "stdout",
     "output_type": "stream",
     "text": [
      "file does not exist\n"
     ]
    },
    {
     "ename": "SystemExit",
     "evalue": "",
     "output_type": "error",
     "traceback": [
      "An exception has occurred, use %tb to see the full traceback.\n",
      "\u001b[1;31mSystemExit\u001b[0m\n"
     ]
    }
   ],
   "source": [
    "#is file is exist\n",
    "import os,sys\n",
    "if os.path.isfile(\"myfile123.txt\"):\n",
    "    d=open(\"myfile123.txt\",\"r\")\n",
    "    s=d.read()\n",
    "    print(s)\n",
    "    d.close()\n",
    "else:\n",
    "    print(\"file does not exist\")\n",
    "    sys.exit()\n"
   ]
  },
  {
   "cell_type": "code",
   "execution_count": 37,
   "metadata": {},
   "outputs": [
    {
     "name": "stdout",
     "output_type": "stream",
     "text": [
      "one\n",
      "['one', 'one']\n"
     ]
    }
   ],
   "source": [
    "#regular expression\n",
    "#redemo\n",
    "import re\n",
    "str=\"take up one idea.one at a time\"\n",
    "result=re.search(r'o\\w\\w',str)\n",
    "print(result.group())\n",
    "result=re.findall(r'o\\w\\w',str)\n",
    "print(result)"
   ]
  },
  {
   "cell_type": "code",
   "execution_count": 38,
   "metadata": {},
   "outputs": [
    {
     "name": "stdout",
     "output_type": "stream",
     "text": [
      "['tak', 'tim']\n"
     ]
    }
   ],
   "source": [
    "#match\n",
    "result=re.findall(r't\\w\\w',str)\n",
    "print(result)\n"
   ]
  },
  {
   "cell_type": "code",
   "execution_count": 39,
   "metadata": {},
   "outputs": [
    {
     "name": "stdout",
     "output_type": "stream",
     "text": [
      "one\n",
      "['take up one idea.one at a time']\n"
     ]
    }
   ],
   "source": [
    "#split\n",
    "import re\n",
    "str=\"take up one idea.one at a time\"\n",
    "result=re.search(r'o\\w\\w',str)\n",
    "print(result.group())\n",
    "result=re.split(r'\\d+',str)\n",
    "print(result)"
   ]
  },
  {
   "cell_type": "code",
   "execution_count": 40,
   "metadata": {},
   "outputs": [
    {
     "name": "stdout",
     "output_type": "stream",
     "text": [
      "one\n",
      "take up two idea.two at a time\n"
     ]
    }
   ],
   "source": [
    "#subsitute\n",
    "import re\n",
    "str=\"take up one idea.one at a time\"\n",
    "result=re.search(r'o\\w\\w',str)\n",
    "print(result.group())\n",
    "result=re.sub(r'one','two',str)\n",
    "print(result)"
   ]
  },
  {
   "cell_type": "code",
   "execution_count": 56,
   "metadata": {},
   "outputs": [
    {
     "name": "stdout",
     "output_type": "stream",
     "text": [
      "One\n",
      "['One', 'One']\n"
     ]
    }
   ],
   "source": [
    "#qualtifier\n",
    "import re\n",
    "str=\"take up  One idea.One at a time \"\n",
    "result=re.search(r'O\\w\\w',str)\n",
    "print(result.group())\n",
    "result=re.findall(r'O\\w{1,2}',str)\n",
    "print(result)"
   ]
  },
  {
   "cell_type": "code",
   "execution_count": 57,
   "metadata": {},
   "outputs": [
    {
     "name": "stdout",
     "output_type": "stream",
     "text": [
      "one\n",
      "['1-3-2019', '12-11-2020']\n"
     ]
    }
   ],
   "source": [
    "import re\n",
    "str=\"take up 1-3-2019 one idea.one at a time 12-11-2020\"\n",
    "result=re.search(r'o\\w\\w',str)\n",
    "print(result.group())\n",
    "result=re.findall(r'\\d{1,2}-\\d{1,2}-\\d{4}',str)\n",
    "print(result)"
   ]
  },
  {
   "cell_type": "code",
   "execution_count": 61,
   "metadata": {},
   "outputs": [
    {
     "name": "stdout",
     "output_type": "stream",
     "text": [
      "one\n",
      "<re.Match object; span=(0, 4), match='take'>\n"
     ]
    }
   ],
   "source": [
    "import re\n",
    "str=\"take up one idea.one at a time\"\n",
    "result=re.search(r'o\\w\\w',str)\n",
    "print(result.group())\n",
    "result=re.search(r'^t\\w*',str)\n",
    "print(result)"
   ]
  },
  {
   "cell_type": "code",
   "execution_count": 70,
   "metadata": {},
   "outputs": [
    {
     "name": "stdout",
     "output_type": "stream",
     "text": [
      "1574073140.970062\n",
      "Mon Nov 18 16:02:20 2019\n",
      "current Date:18/11/2019\n",
      "current Time:16:2:20\n"
     ]
    }
   ],
   "source": [
    "#date and time\n",
    "import time,datetime\n",
    "epochseconds=time.time()\n",
    "print(epochseconds)\n",
    "t=time.ctime(epochseconds)\n",
    "print(t)\n",
    "dt=datetime.datetime.today()\n",
    "print('current Date:{}/{}/{}'.format(dt.day,dt.month,dt.year))\n",
    "print('current Time:{}:{}:{}'.format(dt.hour,dt.minute,dt.second))"
   ]
  },
  {
   "cell_type": "code",
   "execution_count": 76,
   "metadata": {},
   "outputs": [
    {
     "name": "stdout",
     "output_type": "stream",
     "text": [
      "2019-11-18 16:05:00\n"
     ]
    }
   ],
   "source": [
    "#combine date and time\n",
    "from datetime import *\n",
    "d=date(2019,11,18)\n",
    "t=time(16,5)\n",
    "dt=datetime.combine(d,t)\n",
    "print(dt)"
   ]
  },
  {
   "cell_type": "code",
   "execution_count": 79,
   "metadata": {},
   "outputs": [
    {
     "name": "stdout",
     "output_type": "stream",
     "text": [
      "2019-11-16\n",
      "2020-07-16\n",
      "2021-11-16\n"
     ]
    }
   ],
   "source": [
    "#sortdates\n",
    "from datetime import *\n",
    "ldates=[]\n",
    "d1=date(2019,11,16)\n",
    "d2=date(2020,7,16)\n",
    "d3=date(2021,11,16)\n",
    "ldates.append(d1)\n",
    "ldates.append(d2)\n",
    "ldates.append(d3)\n",
    "ldates.sort()\n",
    "for d in ldates:\n",
    "    print(d)\n",
    "\n",
    "\n"
   ]
  },
  {
   "cell_type": "code",
   "execution_count": 81,
   "metadata": {},
   "outputs": [
    {
     "name": "stdout",
     "output_type": "stream",
     "text": [
      "2019-11-16\n",
      "2020-07-16\n",
      "2021-11-16\n"
     ]
    }
   ],
   "source": [
    "from datetime import date\n",
    "import time\n",
    "ldates=[]\n",
    "d1=date(2019,11,16)\n",
    "d2=date(2020,7,16)\n",
    "d3=date(2021,11,16)\n",
    "ldates.append(d1)\n",
    "ldates.append(d2)\n",
    "ldates.append(d3)\n",
    "ldates.sort()\n",
    "time.sleep(1)\n",
    "for d in ldates:\n",
    "    print(d)\n",
    "\n",
    "\n"
   ]
  },
  {
   "cell_type": "code",
   "execution_count": 86,
   "metadata": {},
   "outputs": [
    {
     "name": "stdout",
     "output_type": "stream",
     "text": [
      "2019-11-16\n",
      "2020-07-16\n",
      "2021-11-16\n",
      "execution time 3.001383399999213\n"
     ]
    }
   ],
   "source": [
    "from datetime import *\n",
    "import time\n",
    "starttime=time.perf_counter()\n",
    "ldates=[]\n",
    "d1=date(2019,11,16)\n",
    "d2=date(2020,7,16)\n",
    "d3=date(2021,11,16)\n",
    "ldates.append(d1)\n",
    "ldates.append(d2)\n",
    "ldates.append(d3)\n",
    "ldates.sort()\n",
    "time.sleep(3)\n",
    "for d in ldates:\n",
    "    print(d)\n",
    "endtime=time.perf_counter()\n",
    "print(\"execution time\",endtime-starttime)\n",
    "\n"
   ]
  },
  {
   "cell_type": "code",
   "execution_count": null,
   "metadata": {},
   "outputs": [],
   "source": []
  },
  {
   "cell_type": "code",
   "execution_count": null,
   "metadata": {},
   "outputs": [],
   "source": []
  },
  {
   "cell_type": "code",
   "execution_count": null,
   "metadata": {},
   "outputs": [],
   "source": []
  },
  {
   "cell_type": "code",
   "execution_count": null,
   "metadata": {},
   "outputs": [],
   "source": []
  }
 ],
 "metadata": {
  "kernelspec": {
   "display_name": "Python 3",
   "language": "python",
   "name": "python3"
  },
  "language_info": {
   "codemirror_mode": {
    "name": "ipython",
    "version": 3
   },
   "file_extension": ".py",
   "mimetype": "text/x-python",
   "name": "python",
   "nbconvert_exporter": "python",
   "pygments_lexer": "ipython3",
   "version": "3.7.4"
  }
 },
 "nbformat": 4,
 "nbformat_minor": 2
}
